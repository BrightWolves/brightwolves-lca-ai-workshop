{
    "cells": [
     {
      "cell_type": "markdown",
      "metadata": {},
      "source": [
       "# Environment Setup and Verification\n",
       "\n",
       "This notebook will help you verify that your workshop environment is correctly set up and all required components are working.\n",
       "\n",
       "## Sections:\n",
       "1. Python Environment Check\n",
       "2. Required Package Verification\n",
       "3. Repository Structure Validation\n",
       "4. API Access Testing\n",
       "5. Data Files Verification"
      ]
     },
     {
      "cell_type": "markdown",
      "metadata": {},
      "source": [
       "## 1. Python Environment Check"
      ]
     },
     {
      "cell_type": "code",
      "execution_count": null,
      "metadata": {},
      "outputs": [],
      "source": [
       "import sys\n",
       "import platform\n",
       "\n",
       "print(f\"Python version: {sys.version}\")\n",
       "print(f\"Platform: {platform.platform()}\")\n",
       "\n",
       "# Verify Python version >= 3.10\n",
       "assert sys.version_info >= (3, 10), \"Python 3.10 or higher is required!\""
      ]
     },
     {
      "cell_type": "markdown",
      "metadata": {},
      "source": [
       "## 2. Required Package Verification"
      ]
     },
     {
      "cell_type": "code",
      "execution_count": null,
      "metadata": {},
      "outputs": [],
      "source": [
       "required_packages = [\n",
       "    'pandas',\n",
       "    'numpy',\n",
       "    'matplotlib',\n",
       "    'seaborn',\n",
       "    'pdfplumber',\n",
       "    'PyPDF2',\n",
       "    'requests',\n",
       "    'python-dotenv',\n",
       "    'anthropic',\n",
       "    'openai'\n",
       "]\n",
       "\n",
       "missing_packages = []\n",
       "\n",
       "for package in required_packages:\n",
       "    try:\n",
       "        __import__(package)\n",
       "        print(f\"✓ {package}\")\n",
       "    except ImportError:\n",
       "        missing_packages.append(package)\n",
       "        print(f\"✗ {package} - MISSING!\")\n",
       "\n",
       "if missing_packages:\n",
       "    print(\"\\nMissing packages. Please install using:\")\n",
       "    print(f\"pip install {' '.join(missing_packages)}\")\n",
       "else:\n",
       "    print(\"\\nAll required packages installed!\")"
      ]
     },
     {
      "cell_type": "markdown",
      "metadata": {},
      "source": [
       "## 3. Repository Structure Validation"
      ]
     },
     {
      "cell_type": "code",
      "execution_count": null,
      "metadata": {},
      "outputs": [],
      "source": [
       "from exercises.setup_env import find_repo_root, verify_team_solution\n",
       "\n",
       "# Find and verify repository root\n",
       "repo_root = find_repo_root()\n",
       "print(f\"Repository root: {repo_root}\")\n",
       "\n",
       "# Verify team solution structure\n",
       "try:\n",
       "    verify_team_solution()\n",
       "    print(\"✓ Team solution structure verified!\")\n",
       "except Exception as e:\n",
       "    print(f\"✗ Team solution structure error: {str(e)}\")"
      ]
     },
     {
      "cell_type": "markdown",
      "metadata": {},
      "source": [
       "## 4. API Access Testing"
      ]
     },
     {
      "cell_type": "code",
      "execution_count": null,
      "metadata": {},
      "outputs": [],
      "source": [
       "import os\n",
       "from dotenv import load_dotenv\n",
       "\n",
       "# Load environment variables\n",
       "load_dotenv()\n",
       "\n",
       "# Check for required API keys\n",
       "required_keys = [\n",
       "    'ANTHROPIC_API_KEY',\n",
       "    'OPENAI_API_KEY',\n",
       "    'PERPLEXITY_KEY'\n",
       "]\n",
       "\n",
       "missing_keys = []\n",
       "for key in required_keys:\n",
       "    if not os.getenv(key):\n",
       "        missing_keys.append(key)\n",
       "        print(f\"✗ {key} - MISSING!\")\n",
       "    else:\n",
       "        print(f\"✓ {key} found\")\n",
       "\n",
       "if missing_keys:\n",
       "    print(\"\\nMissing API keys! Please add them to your .env file\")\n",
       "else:\n",
       "    print(\"\\nAll API keys present!\")"
      ]
     },
     {
      "cell_type": "markdown",
      "metadata": {},
      "source": [
       "## 5. Data Files Verification"
      ]
     },
     {
      "cell_type": "code",
      "execution_count": null,
      "metadata": {},
      "outputs": [],
      "source": [
       "from exercises.setup_env import verify_data_files\n",
       "\n",
       "try:\n",
       "    data_files = verify_data_files()\n",
       "    print(\"✓ All required data files found:\")\n",
       "    for desc, path in data_files.items():\n",
       "        print(f\"  - {desc}: {path}\")\n",
       "except FileNotFoundError as e:\n",
       "    print(f\"✗ Data files error: {str(e)}\")"
      ]
     },
     {
      "cell_type": "markdown",
      "metadata": {},
      "source": [
       "## Environment Setup Complete!\n",
       "\n",
       "If all checks above passed (marked with ✓), your environment is ready for the workshop!\n",
       "\n",
       "If you encountered any errors:\n",
       "1. Review the error messages carefully\n",
       "2. Check the troubleshooting guide in the repository\n",
       "3. Ask for help in the workshop Discord channel"
      ]
     }
    ],
    "metadata": {
     "kernelspec": {
      "display_name": "Python 3",
      "language": "python",
      "name": "python3"
     },
     "language_info": {
      "codemirror_mode": {
       "name": "ipython",
       "version": 3
      },
      "file_extension": ".py",
      "mimetype": "text/x-python",
      "name": "python",
      "nbconvert_exporter": "python",
      "pygments_lexer": "ipython3",
      "version": "3.10.0"
     }
    }
   }