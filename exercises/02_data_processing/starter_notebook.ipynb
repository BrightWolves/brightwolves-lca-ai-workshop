{
 "cells": [
  {
   "cell_type": "markdown",
   "metadata": {},
   "source": [
    "# Introduction\n",
    "Exercise 2: LCA Data Processing\n",
    "\n",
    "## Objectives\n",
    "- Standardise units\n",
    "- Calculate impacts\n",
    "- Validate results\n",
    "\n",
    "## Pre-implemented Components\n",
    "- Unit conversion framework\n",
    "- Impact category definitions\n",
    "- Data validation helpers\n",
    "\n",
    "## Your Tasks\n",
    "1. Implement specific calculations\n",
    "2. Handle data quality issues\n",
    "3. Document assumptions\n",
    "\n",
    "## Time: 25 minutes"
   ]
  },
  {
   "cell_type": "markdown",
   "metadata": {},
   "source": [
    "# Environment setup\n",
    "## Import pre-implemented components"
   ]
  },
  {
   "cell_type": "code",
   "execution_count": null,
   "metadata": {
    "vscode": {
     "languageId": "plaintext"
    }
   },
   "outputs": [],
   "source": [
    "# Setup environment\n",
    "import sys\n",
    "from pathlib import Path\n",
    "exercises_dir = Path(__file__).parent.parent\n",
    "sys.path.append(str(exercises_dir))\n",
    "\n",
    "from setup_env import setup_notebook_env\n",
    "setup_notebook_env()\n",
    "\n",
    "# Import required libraries\n",
    "import pandas as pd\n",
    "import json\n",
    "\n",
    "# Import template code\n",
    "from team_template.src.processing import LCAProcessor\n",
    "from team_template.src.validation import DataValidator\n",
    "\n",
    "# Load results from previous exercise\n",
    "results_dir = Path(\"../../solutions/team_template/results\")\n",
    "latest_result = max(results_dir.glob(\"extraction_results_*.json\"))\n",
    "\n",
    "with open(latest_result) as f:\n",
    "    extraction_data = json.load(f)\n",
    "    \n",
    "print(f\"Loaded results from: {latest_result}\")"
   ]
  },
  {
   "cell_type": "markdown",
   "metadata": {},
   "source": [
    "## 1. Initialize Processor"
   ]
  },
  {
   "cell_type": "code",
   "execution_count": null,
   "metadata": {
    "vscode": {
     "languageId": "plaintext"
    }
   },
   "outputs": [],
   "source": [
    "# Create processor instance\n",
    "processor = LCAProcessor()\n",
    "\n",
    "# Examine available conversions\n",
    "print(\"Available unit conversions:\")\n",
    "for from_unit, to_units in processor.unit_conversions.items():\n",
    "    print(f\"  {from_unit} → {', '.join(to_units)}\")"
   ]
  },
  {
   "cell_type": "markdown",
   "metadata": {},
   "source": [
    "## 2. Standardize Units"
   ]
  },
  {
   "cell_type": "code",
   "execution_count": null,
   "metadata": {
    "vscode": {
     "languageId": "plaintext"
    }
   },
   "outputs": [],
   "source": [
    "# TODO: Implement unit standardization\n",
    "# Consider which units should be the standard for each impact category"
   ]
  },
  {
   "cell_type": "markdown",
   "metadata": {},
   "source": [
    "## 3. Calculate Impacts"
   ]
  },
  {
   "cell_type": "code",
   "execution_count": null,
   "metadata": {
    "vscode": {
     "languageId": "plaintext"
    }
   },
   "outputs": [],
   "source": [
    "# TODO: Implement impact calculations\n",
    "# Remember to document assumptions and data quality issues"
   ]
  },
  {
   "cell_type": "markdown",
   "metadata": {},
   "source": [
    "## 4. Validate Results"
   ]
  },
  {
   "cell_type": "code",
   "execution_count": null,
   "metadata": {
    "vscode": {
     "languageId": "plaintext"
    }
   },
   "outputs": [],
   "source": [
    "# Create validator instance\n",
    "validator = DataValidator()\n",
    "\n",
    "# Validate processed results\n",
    "is_valid, issues = validator.validate_processing(processed_data)\n",
    "\n",
    "print(f\"Validation passed: {is_valid}\")\n",
    "if not is_valid:\n",
    "    print(\"\\nIssues found:\")\n",
    "    for issue in issues:\n",
    "        print(f\"- {issue}\")"
   ]
  },
  {
   "cell_type": "markdown",
   "metadata": {},
   "source": [
    "## 5. Save Results"
   ]
  },
  {
   "cell_type": "code",
   "execution_count": null,
   "metadata": {
    "vscode": {
     "languageId": "plaintext"
    }
   },
   "outputs": [],
   "source": [
    "# Save processed results for visualization\n",
    "from datetime import datetime\n",
    "\n",
    "timestamp = datetime.now().strftime(\"%Y%m%d_%H%M%S\")\n",
    "output_file = results_dir / f\"processed_results_{timestamp}.json\"\n",
    "\n",
    "with open(output_file, 'w') as f:\n",
    "    json.dump(processed_data, f, indent=2)\n",
    "    \n",
    "print(f\"Results saved to: {output_file}\")"
   ]
  }
 ],
 "metadata": {
  "language_info": {
   "name": "python"
  }
 },
 "nbformat": 4,
 "nbformat_minor": 2
}
