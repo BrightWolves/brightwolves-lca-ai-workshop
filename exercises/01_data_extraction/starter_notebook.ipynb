{
 "cells": [
  {
   "cell_type": "markdown",
   "metadata": {},
   "source": [
    "# Introduction\n",
    "Exercise 1: EPD Data Extraction\n",
    "\n",
    "## Objectives\n",
    "- Understand EPD structure\n",
    "- Extract key environmental impacts\n",
    "- Validate extracted data\n",
    "\n",
    "## Pre-implemented Components\n",
    "- PDF text extraction\n",
    "- Table detection\n",
    "- Basic data validation\n",
    "\n",
    "## Your Tasks\n",
    "1. Implement prompt refinements\n",
    "2. Extract specific impact categories\n",
    "3. Validate results\n",
    "\n",
    "## Time: 20 minutes"
   ]
  },
  {
   "cell_type": "markdown",
   "metadata": {},
   "source": [
    "# Environment setup\n",
    "## Import pre-implemented components\n",
    "\n",
    "Note: When you as a team copy to your solutions folder, you can keep the same imports\n",
    "The imports ought to reference your copy of the code"
   ]
  },
  {
   "cell_type": "code",
   "execution_count": null,
   "metadata": {
    "vscode": {
     "languageId": "plaintext"
    }
   },
   "outputs": [],
   "source": [
    "# Import setup from exercises directory\n",
    "import sys\n",
    "from pathlib import Path\n",
    "exercises_dir = Path(__file__).parent.parent\n",
    "sys.path.append(str(exercises_dir))\n",
    "\n",
    "from setup_env import setup_notebook_env\n",
    "setup_notebook_env()\n",
    "\n",
    "# Import required libraries\n",
    "import pandas as pd\n",
    "import pdfplumber\n",
    "\n",
    "# Import team template code\n",
    "from team_template.src.extraction import EPDExtractor\n",
    "from team_template.src.validation import DataValidator\n",
    "\n",
    "# Verify data path\n",
    "data_path = Path(\"../../data/reference_results\")  # Updated relative path\n",
    "sample_epd = data_path / \"sample_epd.pdf\"\n",
    "assert sample_epd.exists(), f\"Sample EPD not found at {sample_epd}\""
   ]
  },
  {
   "cell_type": "markdown",
   "metadata": {},
   "source": [
    "# Your implementation here"
   ]
  },
  {
   "cell_type": "code",
   "execution_count": null,
   "metadata": {
    "vscode": {
     "languageId": "plaintext"
    }
   },
   "outputs": [],
   "source": []
  }
 ],
 "metadata": {
  "language_info": {
   "name": "python"
  }
 },
 "nbformat": 4,
 "nbformat_minor": 2
}
