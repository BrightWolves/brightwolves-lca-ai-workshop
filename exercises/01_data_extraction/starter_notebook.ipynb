{
 "cells": [
  {
   "cell_type": "markdown",
   "metadata": {},
   "source": [
    "# Introduction\n",
    "Exercise 1: EPD Data Extraction\n",
    "\n",
    "## Objectives\n",
    "- Understand EPD structure\n",
    "- Extract key environmental impacts\n",
    "- Validate extracted data\n",
    "\n",
    "## Pre-implemented Components\n",
    "- PDF text extraction\n",
    "- Table detection\n",
    "- Basic data validation\n",
    "\n",
    "## Your Tasks\n",
    "1. Implement prompt refinements\n",
    "2. Extract specific impact categories\n",
    "3. Validate results\n",
    "\n",
    "## Time: 20 minutes"
   ]
  },
  {
   "cell_type": "markdown",
   "metadata": {},
   "source": [
    "# Environment setup\n",
    "## Import pre-implemented components\n",
    "\n",
    "Note: When you as a team copy to your solutions folder, you can keep the same imports\n",
    "The imports ought to reference your copy of the code"
   ]
  },
  {
   "cell_type": "code",
   "execution_count": null,
   "metadata": {
    "vscode": {
     "languageId": "plaintext"
    }
   },
   "outputs": [],
   "source": [
    "import sys\n",
    "from pathlib import Path\n",
    "exercises_dir = Path(__file__).parent.parent\n",
    "sys.path.append(str(exercises_dir))\n",
    "\n",
    "from setup_env import setup_notebook_env\n",
    "setup_notebook_env()\n",
    "\n",
    "# Import required libraries\n",
    "import pandas as pd\n",
    "import pdfplumber\n",
    "\n",
    "# Import team template code\n",
    "from team_template.src.extraction import EPDExtractor\n",
    "from team_template.src.validation import DataValidator\n",
    "\n",
    "# Verify data path\n",
    "data_path = Path(\"../../data/reference_results\")  # Updated relative path\n",
    "sample_epd = data_path / \"sample_epd.pdf\"\n",
    "assert sample_epd.exists(), f\"Sample EPD not found at {sample_epd}\""
   ]
  },
  {
   "cell_type": "markdown",
   "metadata": {},
   "source": [
    "## 1. Examine Sample EPD"
   ]
  },
  {
   "cell_type": "code",
   "execution_count": null,
   "metadata": {
    "vscode": {
     "languageId": "plaintext"
    }
   },
   "outputs": [],
   "source": [
    "c# Load and examine the sample EPD\n",
    "def peek_pdf(pdf_path: Path, pages: int = 1) -> str:\n",
    "    \"\"\"Extract and return first few pages of PDF text.\"\"\"\n",
    "    with pdfplumber.open(pdf_path) as pdf:\n",
    "        return \"\\n\".join(page.extract_text() for page in pdf.pages[:pages])\n",
    "\n",
    "# View first page of sample EPD\n",
    "print(peek_pdf(sample_epd))"
   ]
  },
  {
   "cell_type": "markdown",
   "metadata": {},
   "source": [
    "## 2. Test Pre-implemented Extraction"
   ]
  },
  {
   "cell_type": "code",
   "execution_count": null,
   "metadata": {
    "vscode": {
     "languageId": "plaintext"
    }
   },
   "outputs": [],
   "source": [
    "# Create extractor instance\n",
    "extractor = EPDExtractor()\n",
    "\n",
    "# Test basic extraction\n",
    "result = extractor.extract_from_pdf(str(sample_epd))\n",
    "print(\"Extracted data structure:\")\n",
    "print(result)"
   ]
  },
  {
   "cell_type": "markdown",
   "metadata": {},
   "source": [
    "## 3. Your Task: Enhance Extraction"
   ]
  },
  {
   "cell_type": "code",
   "execution_count": null,
   "metadata": {
    "vscode": {
     "languageId": "plaintext"
    }
   },
   "outputs": [],
   "source": [
    "# TODO: Implement your enhanced extraction logic here\n",
    "# Hint: Consider what additional fields would be valuable for LCA"
   ]
  },
  {
   "cell_type": "markdown",
   "metadata": {},
   "source": [
    "## 4. Validate Results"
   ]
  },
  {
   "cell_type": "code",
   "execution_count": null,
   "metadata": {
    "vscode": {
     "languageId": "plaintext"
    }
   },
   "outputs": [],
   "source": [
    "# Create validator instance\n",
    "validator = DataValidator()\n",
    "\n",
    "# Validate extraction results\n",
    "is_valid, issues = validator.validate_extraction(result)\n",
    "\n",
    "print(f\"Validation passed: {is_valid}\")\n",
    "if not is_valid:\n",
    "    print(\"\\nIssues found:\")\n",
    "    for issue in issues:\n",
    "        print(f\"- {issue}\")"
   ]
  },
  {
   "cell_type": "markdown",
   "metadata": {},
   "source": [
    "## 5. Save Results"
   ]
  },
  {
   "cell_type": "code",
   "execution_count": null,
   "metadata": {
    "vscode": {
     "languageId": "plaintext"
    }
   },
   "outputs": [],
   "source": [
    "# Save validated results for next exercise\n",
    "import json\n",
    "from datetime import datetime\n",
    "\n",
    "output_path = Path(\"../results\")\n",
    "output_path.mkdir(exist_ok=True)\n",
    "\n",
    "timestamp = datetime.now().strftime(\"%Y%m%d_%H%M%S\")\n",
    "output_file = output_path / f\"extraction_results_{timestamp}.json\"\n",
    "\n",
    "with open(output_file, 'w') as f:\n",
    "    json.dump(result, f, indent=2)\n",
    "    \n",
    "print(f\"Results saved to: {output_file}\")"
   ]
  }
 ],
 "metadata": {
  "language_info": {
   "name": "python"
  }
 },
 "nbformat": 4,
 "nbformat_minor": 2
}
